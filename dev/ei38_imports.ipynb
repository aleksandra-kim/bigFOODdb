{
 "cells": [
  {
   "cell_type": "code",
   "execution_count": 1,
   "id": "01523cc9",
   "metadata": {},
   "outputs": [
    {
     "name": "stdout",
     "output_type": "stream",
     "text": [
      "Biosphere database already present!!! No setup is needed\n",
      "ecoinvent 3.8 cutoff database already present!!! No import is needed\n",
      "Extracted 1189 unallocated datasets in 3.35 seconds\n",
      "Applying strategy: normalize_units\n",
      "Applying strategy: update_ecoinvent_locations\n",
      "Applying strategy: assign_only_product_as_production\n",
      "Applying strategy: drop_unspecified_subcategories\n",
      "Applying strategy: sp_allocate_products\n",
      "Applying strategy: fix_zero_allocation_products\n",
      "Applying strategy: split_simapro_name_geo\n",
      "Applying strategy: strip_biosphere_exc_locations\n",
      "Applying strategy: migrate_datasets\n",
      "Applying strategy: migrate_exchanges\n",
      "Applying strategy: set_code_by_activity_hash\n",
      "Applying strategy: link_technosphere_based_on_name_unit_location\n",
      "Applying strategy: change_electricity_unit_mj_to_kwh\n",
      "Applying strategy: set_lognormal_loc_value_uncertainty_safe\n",
      "Applying strategy: normalize_biosphere_categories\n",
      "Applying strategy: normalize_simapro_biosphere_categories\n",
      "Applying strategy: normalize_biosphere_names\n",
      "Applying strategy: normalize_simapro_biosphere_names\n",
      "Applying strategy: migrate_exchanges\n",
      "Applying strategy: fix_localized_water_flows\n",
      "Applying strategy: link_iterable_by_fields\n",
      "Applying strategy: convert_activity_parameters_to_list\n",
      "Applied 22 strategies in 3.16 seconds\n",
      "Applying strategy: migrate_datasets\n",
      "Applying strategy: migrate_exchanges\n",
      "Applying strategy: migrate_datasets\n",
      "Applying strategy: migrate_exchanges\n",
      "Applying strategy: migrate_datasets\n",
      "Applying strategy: migrate_exchanges\n",
      "Applying strategy: migrate_datasets\n",
      "Applying strategy: migrate_exchanges\n",
      "Applying strategy: update_ecoinvent_locations\n",
      "Applying strategy: link_iterable_by_fields\n",
      "Applying strategy: link_iterable_by_fields\n",
      "Applying strategy: link_iterable_by_fields\n",
      "Applying strategy: link_iterable_by_fields\n",
      "Applying strategy: link_iterable_by_fields\n",
      "Applying strategy: link_iterable_by_fields\n",
      "Couldn't apply strategy link_iterable_by_fields:\n",
      "\tObject in source database can't be uniquely linked to target database.\n",
      "Problematic dataset is:\n",
      "{'category': '(missing)',\n",
      " 'filename': '(missing)',\n",
      " 'location': '(missing)',\n",
      " 'name': 'Benzyl alcohol',\n",
      " 'unit': 'kilogram'}\n",
      "Possible targets include (at least one not shown):\n",
      "[{'category': '(missing)',\n",
      "  'filename': '(missing)',\n",
      "  'location': '(missing)',\n",
      "  'name': 'Benzyl alcohol',\n",
      "  'unit': 'kilogram'},\n",
      " {'category': '(missing)',\n",
      "  'filename': '(missing)',\n",
      "  'location': '(missing)',\n",
      "  'name': 'Benzyl alcohol',\n",
      "  'unit': 'kilogram'},\n",
      " {'category': '(missing)',\n",
      "  'filename': '(missing)',\n",
      "  'location': '(missing)',\n",
      "  'name': 'Benzyl alcohol',\n",
      "  'unit': 'kilogram'},\n",
      " {'category': '(missing)',\n",
      "  'filename': '(missing)',\n",
      "  'location': '(missing)',\n",
      "  'name': 'Benzyl alcohol',\n",
      "  'unit': 'kilogram'}]\n",
      "Applying strategy: link_iterable_by_fields\n",
      "Applying strategy: link_iterable_by_fields\n",
      "1261 datasets\n",
      "115259 exchanges\n",
      "3057 unlinked exchanges\n",
      "  Type biosphere: 440 unique unlinked exchanges\n",
      "  Type technosphere: 81 unique unlinked exchanges\n"
     ]
    }
   ],
   "source": [
    "import bw2io as bi\n",
    "import bw2data as bd\n",
    "import sys\n",
    "sys.path.append(\"/Users/akim/PycharmProjects/bigfood_db\")\n",
    "\n",
    "# Local files\n",
    "from bigfood_db.import_databases import import_ecoinvent\n",
    "from bigfood_db.importers import Agribalyse13Importer\n",
    "\n",
    "if __name__ == '__main__':\n",
    "    project = \"Food ei38\"\n",
    "    bd.projects.set_current(project)\n",
    "\n",
    "    ei_path = \"/Users/akim/Documents/LCA_files/ecoinvent_38_cutoff/datasets\"\n",
    "    ei_name = \"ecoinvent 3.8 cutoff\"\n",
    "\n",
    "    bi.bw2setup()\n",
    "    b3 = bd.Database('biosphere3')\n",
    "    import_ecoinvent(ei_path, ei_name)\n",
    "    ei = bd.Database(ei_name)\n",
    "\n",
    "    ag_path = \"/Users/akim/Documents/LCA_files/agribalyse_13/Agribalyse CSV FINAL_no links_Nov2016v3.CSV\"\n",
    "    ag_name = \"Agribalyse 1.3\"\n",
    "    ag = Agribalyse13Importer(ag_path, ag_name)\n",
    "    ag.match_database()\n",
    "    ag.match_database(db_name='biosphere3', fields=('name', 'category', 'unit', 'location'))\n",
    "    ag.match_database(db_name=ei_name, fields=('name', 'unit', 'reference product', 'location'))\n",
    "    ag.match_database(db_name=ei_name, fields=('name', 'unit', 'location'))\n",
    "    ag.statistics()"
   ]
  },
  {
   "cell_type": "code",
   "execution_count": 3,
   "id": "1a902e8d",
   "metadata": {},
   "outputs": [
    {
     "data": {
      "text/plain": [
       "[('market for copper', 'GLO', 'kilogram'),\n",
       " ('Grass seed, Swiss integrated production, for sowing {GLO}| market for | Alloc Rec, S',\n",
       "  'noLoc',\n",
       "  'kilogram'),\n",
       " ('Waste in incineration', 'noLoc', 'kilogram'),\n",
       " ('Waste in inert landfill', 'noLoc', 'kilogram'),\n",
       " ('Cathode loss', 'noLoc', 'kilogram'),\n",
       " ('Dross', 'noLoc', 'kilogram'),\n",
       " ('Dross for recycling', 'noLoc', 'kilogram'),\n",
       " ('Aluminium waste', 'noLoc', 'kilogram'),\n",
       " ('Cathode iron ingots waste', 'noLoc', 'kilogram'),\n",
       " ('Mineral waste, from mining', 'noLoc', 'kilogram'),\n",
       " ('Production waste, not inert', 'noLoc', 'kilogram'),\n",
       " ('Waste in bioactive landfill', 'noLoc', 'kilogram'),\n",
       " ('copper production, primary', 'RER', 'kilogram'),\n",
       " ('Coconut, husked {PH}| production | Alloc Rec, S', 'noLoc', 'kilogram'),\n",
       " ('Municipal waste collection service by 21 metric ton lorry {GLO}| market for | Alloc Rec, S',\n",
       "  'noLoc',\n",
       "  'ton kilometer'),\n",
       " ('polyurethane production, flexible foam', 'RER', 'kilogram'),\n",
       " ('market for transport, freight, inland waterways, barge',\n",
       "  'GLO',\n",
       "  'ton kilometer'),\n",
       " ('reinforcing steel production', 'RER', 'kilogram'),\n",
       " ('plywood production, for outdoor use', 'RER', 'cubic meter'),\n",
       " ('market for propylene', 'GLO', 'kilogram'),\n",
       " ('market for hydrogen sulfide', 'GLO', 'kilogram'),\n",
       " ('glued laminated timber production, for outdoor use', 'RER', 'cubic meter'),\n",
       " ('market for electricity, medium voltage', 'RoW', 'kilowatt hour'),\n",
       " ('market for ammonia, liquid', 'RER', 'kilogram'),\n",
       " ('market for sulfuric acid', 'GLO', 'kilogram'),\n",
       " ('market for chemicals, inorganic', 'GLO', 'kilogram'),\n",
       " ('market for transport, tractor and trailer, agricultural',\n",
       "  'GLO',\n",
       "  'ton kilometer'),\n",
       " ('market for limestone residue', 'GLO', 'kilogram'),\n",
       " ('Wastewater, from residence {GLO}| market for | Alloc Rec, S',\n",
       "  'noLoc',\n",
       "  'cubic meter'),\n",
       " ('market for lubricating oil', 'GLO', 'kilogram'),\n",
       " ('steel production, converter, chromium steel 18/8', 'RER', 'kilogram'),\n",
       " ('Zinc waste', 'noLoc', 'kilogram'),\n",
       " ('Oil waste', 'noLoc', 'kilogram'),\n",
       " ('Steel and iron (waste treatment) {GLO}| recycling of steel and iron | Alloc Rec, S',\n",
       "  'noLoc',\n",
       "  'kilogram'),\n",
       " ('Aluminium (waste treatment) {GLO}| recycling of aluminium | Alloc Rec, S',\n",
       "  'noLoc',\n",
       "  'kilogram'),\n",
       " ('PVC (waste treatment) {GLO}| recycling of PVC | Alloc Rec, S',\n",
       "  'noLoc',\n",
       "  'kilogram'),\n",
       " ('Mixed plastics (waste treatment) {GLO}| recycling of mixed plastics | Alloc Rec, S',\n",
       "  'noLoc',\n",
       "  'kilogram'),\n",
       " ('market for nitrogen fertiliser, as N', 'GLO', 'kilogram'),\n",
       " ('market for ammonium sulfate, as N', 'GLO', 'kilogram'),\n",
       " ('market for electricity, medium voltage', 'US-FRCC', 'kilowatt hour'),\n",
       " ('market for electricity, medium voltage', 'US-SPP', 'kilowatt hour'),\n",
       " ('Dust, unspecified', 'noLoc', 'kilogram'),\n",
       " ('Mineral waste', 'noLoc', 'kilogram'),\n",
       " ('Slags', 'noLoc', 'kilogram'),\n",
       " ('Waste, final, inert', 'noLoc', 'kilogram'),\n",
       " ('Waste, inorganic', 'noLoc', 'kilogram'),\n",
       " ('Waste, nuclear, high active/m3', 'noLoc', 'cubic meter'),\n",
       " ('Waste, nuclear, low and medium active/m3', 'noLoc', 'cubic meter'),\n",
       " ('plywood production, for indoor use', 'RoW', 'cubic meter'),\n",
       " ('market for phosphoric acid, fertiliser grade, without water, in 70% solution state',\n",
       "  'GLO',\n",
       "  'kilogram'),\n",
       " ('Land tenure, arable land, measured as carbon net primary productivity {MY}| clear-cutting, primary forest to arable land | Alloc Rec, S',\n",
       "  'noLoc',\n",
       "  'kilogram'),\n",
       " ('market for phosphate fertiliser, as P2O5', 'GLO', 'kilogram'),\n",
       " ('market for dolomite', 'GLO', 'kilogram'),\n",
       " ('Application of plant protection product, by field sprayer {GLO}| market for | Alloc Rec, S',\n",
       "  'noLoc',\n",
       "  'hectare'),\n",
       " ('market for potassium chloride, as K2O', 'GLO', 'kilogram'),\n",
       " ('market for ammonia, liquid', 'RoW', 'kilogram'),\n",
       " ('market for water, decarbonised', 'GLO', 'kilogram'),\n",
       " ('market for heat and power co-generation unit construction, 6400kW thermal, building',\n",
       "  'GLO',\n",
       "  'unit'),\n",
       " ('market for heat and power co-generation unit construction, 6400kW thermal, common components for heat+electricity',\n",
       "  'GLO',\n",
       "  'unit'),\n",
       " ('market for heat and power co-generation unit construction, 6400kW thermal, components for electricity only',\n",
       "  'GLO',\n",
       "  'unit'),\n",
       " ('Wastewater, average {GLO}| market for | Alloc Rec, S',\n",
       "  'noLoc',\n",
       "  'cubic meter'),\n",
       " ('Waste mineral oil {GLO}| market for | Alloc Rec, S', 'noLoc', 'kilogram'),\n",
       " ('Wood ash mixture, pure {GLO}| market for | Alloc Rec, S',\n",
       "  'noLoc',\n",
       "  'kilogram'),\n",
       " ('nitric acid production, product in 50% solution state', 'RER', 'kilogram'),\n",
       " ('Gravel, crushed {GLO}| market for | Alloc Rec, S', 'noLoc', 'kilogram'),\n",
       " ('market for bark chips, wet, measured as dry mass', 'GLO', 'kilogram'),\n",
       " ('sawnwood production, softwood, raw, dried (u=20%)', 'RER', 'cubic meter'),\n",
       " ('market for ammonium nitrate, as N', 'GLO', 'kilogram'),\n",
       " ('Chemical waste, unspecified', 'noLoc', 'kilogram'),\n",
       " ('Packaging waste, plastic', 'noLoc', 'kilogram'),\n",
       " ('Chemical waste, inert', 'noLoc', 'kilogram'),\n",
       " ('Packaging waste, paper and board', 'noLoc', 'kilogram'),\n",
       " ('Packaging waste, wood', 'noLoc', 'kilogram'),\n",
       " ('Plastic waste', 'noLoc', 'kilogram'),\n",
       " ('Slags and ashes', 'noLoc', 'kilogram'),\n",
       " ('Waste, industrial', 'noLoc', 'kilogram'),\n",
       " ('Lime, packed {GLO}| market for | Alloc Rec, S', 'noLoc', 'kilogram'),\n",
       " ('Inert waste, for final disposal {GLO}| market for | Alloc Rec, S',\n",
       "  'noLoc',\n",
       "  'kilogram'),\n",
       " ('Quicklime, milled, loose {GLO}| market for | Alloc Rec, S',\n",
       "  'noLoc',\n",
       "  'kilogram'),\n",
       " ('market for decarbonising waste', 'GLO', 'kilogram'),\n",
       " ('market for electricity, low voltage', 'US-SPP', 'kilowatt hour')]"
      ]
     },
     "execution_count": 3,
     "metadata": {},
     "output_type": "execute_result"
    }
   ],
   "source": [
    "list_ = [(act['name'], act.get('location', 'noLoc'), act.get('unit', 'noUnit')) for act in ag.unlinked if act['type'] == 'technosphere']\n",
    "list_"
   ]
  },
  {
   "cell_type": "code",
   "execution_count": 18,
   "id": "1c7dca28",
   "metadata": {},
   "outputs": [
    {
     "data": {
      "text/plain": [
       "[]"
      ]
     },
     "execution_count": 18,
     "metadata": {},
     "output_type": "execute_result"
    }
   ],
   "source": [
    "c = [act for act in ei if 'glued laminated timber production' == act['name']]\n",
    "c"
   ]
  },
  {
   "cell_type": "code",
   "execution_count": null,
   "id": "41171a5e",
   "metadata": {},
   "outputs": [],
   "source": [
    "c[1].as_dict()"
   ]
  },
  {
   "cell_type": "code",
   "execution_count": 7,
   "id": "b9e90df8",
   "metadata": {},
   "outputs": [
    {
     "data": {
      "text/plain": [
       "[{'uncertainty type': 0,\n",
       "  'loc': 1.071826,\n",
       "  'amount': 1.071826,\n",
       "  'categories': ('Materials/fuels',),\n",
       "  'name': 'polyurethane production, flexible foam',\n",
       "  'unit': 'kilogram',\n",
       "  'comment': '40kg/m3',\n",
       "  'type': 'technosphere',\n",
       "  'location': 'RER',\n",
       "  'reference product': 'polyurethane, flexible foam',\n",
       "  'system model': 'Allocation, cut-off by classification',\n",
       "  'simapro name': 'Polyurethane, flexible foam {RER}| production | Alloc Rec, S'}]"
      ]
     },
     "execution_count": 7,
     "metadata": {},
     "output_type": "execute_result"
    }
   ],
   "source": [
    "[act for act in ag.unlinked if act['type'] == 'technosphere' and 'polyurethane production' in act['name']]"
   ]
  },
  {
   "cell_type": "code",
   "execution_count": null,
   "id": "11659d3e",
   "metadata": {},
   "outputs": [],
   "source": []
  },
  {
   "cell_type": "code",
   "execution_count": null,
   "id": "a0b472e8",
   "metadata": {},
   "outputs": [],
   "source": []
  },
  {
   "cell_type": "code",
   "execution_count": null,
   "id": "0a57455b",
   "metadata": {},
   "outputs": [],
   "source": []
  },
  {
   "cell_type": "code",
   "execution_count": null,
   "id": "547f50d6",
   "metadata": {},
   "outputs": [],
   "source": []
  },
  {
   "cell_type": "code",
   "execution_count": null,
   "id": "14c7275d",
   "metadata": {},
   "outputs": [],
   "source": []
  },
  {
   "cell_type": "code",
   "execution_count": null,
   "id": "01147d51",
   "metadata": {},
   "outputs": [],
   "source": []
  }
 ],
 "metadata": {
  "kernelspec": {
   "display_name": "Python 3 (ipykernel)",
   "language": "python",
   "name": "python3"
  },
  "language_info": {
   "codemirror_mode": {
    "name": "ipython",
    "version": 3
   },
   "file_extension": ".py",
   "mimetype": "text/x-python",
   "name": "python",
   "nbconvert_exporter": "python",
   "pygments_lexer": "ipython3",
   "version": "3.9.9"
  },
  "varInspector": {
   "cols": {
    "lenName": 16,
    "lenType": 16,
    "lenVar": 40
   },
   "kernels_config": {
    "python": {
     "delete_cmd_postfix": "",
     "delete_cmd_prefix": "del ",
     "library": "var_list.py",
     "varRefreshCmd": "print(var_dic_list())"
    },
    "r": {
     "delete_cmd_postfix": ") ",
     "delete_cmd_prefix": "rm(",
     "library": "var_list.r",
     "varRefreshCmd": "cat(var_dic_list()) "
    }
   },
   "types_to_exclude": [
    "module",
    "function",
    "builtin_function_or_method",
    "instance",
    "_Feature"
   ],
   "window_display": false
  }
 },
 "nbformat": 4,
 "nbformat_minor": 5
}
