{
 "cells": [
  {
   "cell_type": "code",
   "execution_count": 1,
   "id": "767b6a86",
   "metadata": {
    "scrolled": true
   },
   "outputs": [
    {
     "name": "stdout",
     "output_type": "stream",
     "text": [
      "Biosphere database already present!!! No setup is needed\n",
      "ecoinvent 3.8 cutoff database already present!!! No import is needed\n",
      "Extracted 1189 unallocated datasets in 3.97 seconds\n",
      "Applying strategy: normalize_units\n",
      "Applying strategy: update_ecoinvent_locations\n",
      "Applying strategy: assign_only_product_as_production\n",
      "Applying strategy: drop_unspecified_subcategories\n",
      "Applying strategy: sp_allocate_products\n",
      "Applying strategy: fix_zero_allocation_products\n",
      "Applying strategy: split_simapro_name_geo\n",
      "Applying strategy: strip_biosphere_exc_locations\n",
      "Applying strategy: migrate_datasets\n",
      "Applying strategy: migrate_exchanges\n",
      "Applying strategy: set_code_by_activity_hash\n",
      "Applying strategy: link_technosphere_based_on_name_unit_location\n",
      "Applying strategy: change_electricity_unit_mj_to_kwh\n",
      "Applying strategy: set_lognormal_loc_value_uncertainty_safe\n",
      "Applying strategy: normalize_biosphere_categories\n",
      "Applying strategy: normalize_simapro_biosphere_categories\n",
      "Applying strategy: normalize_biosphere_names\n",
      "Applying strategy: normalize_simapro_biosphere_names\n",
      "Applying strategy: migrate_exchanges\n",
      "Applying strategy: fix_localized_water_flows\n",
      "Applying strategy: link_iterable_by_fields\n",
      "Applying strategy: convert_activity_parameters_to_list\n",
      "Applied 22 strategies in 3.46 seconds\n",
      "Applying strategy: migrate_datasets\n",
      "Applying strategy: migrate_exchanges\n",
      "Applying strategy: migrate_datasets\n",
      "Applying strategy: migrate_exchanges\n",
      "Applying strategy: migrate_datasets\n",
      "Applying strategy: migrate_exchanges\n",
      "Applying strategy: migrate_datasets\n",
      "Applying strategy: migrate_exchanges\n",
      "Applying strategy: link_iterable_by_fields\n",
      "Applying strategy: link_iterable_by_fields\n",
      "Couldn't apply strategy link_iterable_by_fields:\n",
      "\tObject in source database can't be uniquely linked to target database.\n",
      "Problematic dataset is:\n",
      "{'filename': '(missing)',\n",
      " 'location': 'RER',\n",
      " 'name': 'calcium nitrate production',\n",
      " 'unit': 'kilogram'}\n",
      "Possible targets include (at least one not shown):\n",
      "[{'filename': '835aeb7a-cd18-4d60-a640-06df856dc96c_a498d9fb-9402-4374-b2e2-3f85f5d98f43.spold',\n",
      "  'location': 'RER',\n",
      "  'name': 'calcium nitrate production',\n",
      "  'unit': 'kilogram'}]\n",
      "Applying strategy: link_iterable_by_fields\n",
      "Applying strategy: link_iterable_by_fields\n",
      "Applying strategy: link_iterable_by_fields\n",
      "Couldn't apply strategy link_iterable_by_fields:\n",
      "\tObject in source database can't be uniquely linked to target database.\n",
      "Problematic dataset is:\n",
      "{'category': '(missing)',\n",
      " 'filename': '(missing)',\n",
      " 'location': '(missing)',\n",
      " 'name': 'Benzyl alcohol',\n",
      " 'unit': 'kilogram'}\n",
      "Possible targets include (at least one not shown):\n",
      "[{'category': '(missing)',\n",
      "  'filename': '(missing)',\n",
      "  'location': '(missing)',\n",
      "  'name': 'Benzyl alcohol',\n",
      "  'unit': 'kilogram'},\n",
      " {'category': '(missing)',\n",
      "  'filename': '(missing)',\n",
      "  'location': '(missing)',\n",
      "  'name': 'Benzyl alcohol',\n",
      "  'unit': 'kilogram'},\n",
      " {'category': '(missing)',\n",
      "  'filename': '(missing)',\n",
      "  'location': '(missing)',\n",
      "  'name': 'Benzyl alcohol',\n",
      "  'unit': 'kilogram'},\n",
      " {'category': '(missing)',\n",
      "  'filename': '(missing)',\n",
      "  'location': '(missing)',\n",
      "  'name': 'Benzyl alcohol',\n",
      "  'unit': 'kilogram'}]\n"
     ]
    }
   ],
   "source": [
    "import bw2io as bi\n",
    "import bw2data as bd\n",
    "import sys\n",
    "sys.path.append(\"/Users/akim/PycharmProjects/bigfood_db\")\n",
    "\n",
    "# Local files\n",
    "from bigfood_db.import_databases import import_ecoinvent\n",
    "from bigfood_db.importers import Agribalyse13Importer\n",
    "from bigfood_db.utils import create_location_mapping, modify_exchanges\n",
    "\n",
    "if __name__ == '__main__':\n",
    "    project = \"Food ei38\"\n",
    "    bd.projects.set_current(project)\n",
    "\n",
    "    ei_path = \"/Users/akim/Documents/LCA_files/ecoinvent_38_cutoff/datasets\"\n",
    "    ei_name = \"ecoinvent 3.8 cutoff\"\n",
    "\n",
    "    bi.bw2setup()\n",
    "    b3 = bd.Database('biosphere3')\n",
    "    import_ecoinvent(ei_path, ei_name)\n",
    "    ei = bd.Database(ei_name)\n",
    "\n",
    "    ag_path = \"/Users/akim/Documents/LCA_files/agribalyse_13/Agribalyse CSV FINAL_no links_Nov2016v3.CSV\"\n",
    "    ag_name = \"Agribalyse 1.3\"\n",
    "    ag = Agribalyse13Importer(ag_path, ag_name)\n",
    "#     ag.add_unlinked_activities()\n",
    "#     mapping = create_location_mapping(ag, ei_name)\n",
    "#     ag = modify_exchanges(ag, mapping, ei_name)\n",
    "    "
   ]
  },
  {
   "cell_type": "code",
   "execution_count": 2,
   "id": "78106e8c",
   "metadata": {},
   "outputs": [
    {
     "name": "stdout",
     "output_type": "stream",
     "text": [
      "1261 datasets\n",
      "115259 exchanges\n",
      "3294 unlinked exchanges\n",
      "  Type biosphere: 440 unique unlinked exchanges\n",
      "  Type technosphere: 77 unique unlinked exchanges\n"
     ]
    },
    {
     "data": {
      "text/plain": [
       "(1261, 115259, 3294)"
      ]
     },
     "execution_count": 2,
     "metadata": {},
     "output_type": "execute_result"
    }
   ],
   "source": [
    "ag.statistics()"
   ]
  },
  {
   "cell_type": "code",
   "execution_count": null,
   "id": "08742a1b",
   "metadata": {},
   "outputs": [],
   "source": [
    "[act['name'] for act in ag.unlinked if \"tech\" in act['type']]"
   ]
  },
  {
   "cell_type": "markdown",
   "id": "d013df64",
   "metadata": {},
   "source": [
    "# Biosphere"
   ]
  },
  {
   "cell_type": "code",
   "execution_count": null,
   "id": "d7cb3c5f",
   "metadata": {},
   "outputs": [],
   "source": [
    "# del bd.databases[\"Agribalyse biosphere\"]\n",
    "# bd.Database(\"Agribalyse biosphere\").register()\n",
    "# ag.add_unlinked_flows_to_biosphere_database(\"Agribalyse biosphere\")"
   ]
  },
  {
   "cell_type": "markdown",
   "id": "e656e8c3",
   "metadata": {},
   "source": [
    "# Technosphere"
   ]
  },
  {
   "cell_type": "code",
   "execution_count": 34,
   "id": "00e30541",
   "metadata": {},
   "outputs": [],
   "source": [
    "def create_location_mapping_glo(db1, db2_name):\n",
    "    \"\"\"\n",
    "    Create mapping between unlinked exchanges of database `db1` and their corresponding activities in `db2`.\n",
    "    Here an exchange in `db1` needs to be linked to activity in `db2` with location `GLO`, which does not exist there.\n",
    "    Instead, there are activities with the same name but different locations, which constitute GLO location together.\n",
    "    For example, CH + DE + RoW = GLO, where Rest of the World (RoW) basically adds whatever locations are missing to\n",
    "    result in GLO. Hence, the mapping is from unlinked exchanges of `db1` and list of activities in `db2` with same name\n",
    "    but multiple locations.\n",
    "    Example: (market for lime, GLO) is split by production volume into\n",
    "             (market for lime, RoW) & (market for lime, RER).\n",
    "    Mapping is a list of dictionaries where each dictionary corresponds to an unlinked exchange.\n",
    "    The key is the index of the unlinked exchange in `db`` and the values are `db2` activities codes.\n",
    "    \"\"\"\n",
    "    db2 = bd.Database(db2_name)\n",
    "    unlinked_list = [act for act in db1.unlinked if act['type'] == 'technosphere' and act.get('location') == \"GLO\"]\n",
    "    mapping = []\n",
    "    for i, activity in enumerate(unlinked_list):\n",
    "        new_el = {}\n",
    "        name = activity['name']\n",
    "        loc = activity['location']\n",
    "        acts_codes = [act for act in db2 if name == act['name']]\n",
    "        if len(acts_codes)>0:\n",
    "            new_el[(name, loc)] = acts_codes\n",
    "            mapping.append(new_el)\n",
    "    return mapping"
   ]
  },
  {
   "cell_type": "code",
   "execution_count": 35,
   "id": "35d9bb31",
   "metadata": {},
   "outputs": [],
   "source": [
    "def create_location_mapping_rer(db1, db2_name):\n",
    "    \"\"\"\n",
    "    Create mapping between unlinked exchanges of database `db1` and their corresponding activities in `db2`.\n",
    "    Here an exchange in `db1` needs to be linked to activity in `db2` with location `GLO`, which does not exist there.\n",
    "    Instead, there are activities with the same name but different locations, which constitute GLO location together.\n",
    "    For example, CH + DE + RoW = GLO, where Rest of the World (RoW) basically adds whatever locations are missing to\n",
    "    result in GLO. Hence, the mapping is from unlinked exchanges of `db1` and list of activities in `db2` with same name\n",
    "    but multiple locations.\n",
    "    Example: (market for lime, GLO) is split by production volume into\n",
    "             (market for lime, RoW) & (market for lime, RER).\n",
    "    Mapping is a list of dictionaries where each dictionary corresponds to an unlinked exchange.\n",
    "    The key is the index of the unlinked exchange in `db`` and the values are `db2` activities codes.\n",
    "    \"\"\"\n",
    "    db2 = bd.Database(db2_name)\n",
    "    unlinked_list = [act for act in db1.unlinked if act['type'] == 'technosphere' and act.get('location') == \"RER\"]\n",
    "    mapping = []\n",
    "    import country_converter as coco\n",
    "    for i, activity in enumerate(unlinked_list):\n",
    "        new_el = {}\n",
    "        name = activity['name']\n",
    "        loc = activity['location']\n",
    "        for rer_wo_string in [\"Europe without \", \"RER w/o \"]:\n",
    "            act_rer_wo_xx = [\n",
    "                act for act in db2 if name == act['name'] and rer_wo_string in act['location']\n",
    "            ]\n",
    "#             if len(act_rer_wo_xx) >= 1:\n",
    "#                 print(act_rer_wo_xx)\n",
    "            if len(act_rer_wo_xx) == 1:\n",
    "                act_rer_wo_xx = act_rer_wo_xx[0]\n",
    "                xx_location_long = act_rer_wo_xx['location'].replace(rer_wo_string, \"\")\n",
    "                xx_location_iso2 = coco.convert(names=xx_location_long, to='ISO2')\n",
    "                act_xx = [act for act in db2 if name == act['name'] and xx_location_iso2==act['location']]\n",
    "                assert len(act_xx) == 1\n",
    "                new_el[(name, loc)] = [act_rer_wo_xx, act_xx]\n",
    "                mapping.append(new_el)\n",
    "    return mapping"
   ]
  },
  {
   "cell_type": "code",
   "execution_count": 36,
   "id": "33b8267f",
   "metadata": {},
   "outputs": [],
   "source": [
    "mapping_glo = create_location_mapping_glo(ag, ei_name)"
   ]
  },
  {
   "cell_type": "code",
   "execution_count": 37,
   "id": "261590a4",
   "metadata": {},
   "outputs": [
    {
     "name": "stdout",
     "output_type": "stream",
     "text": [
      "['reinforcing steel production' (kilogram, Europe without Austria, None)]\n",
      "['nitric acid production, product in 50% solution state' (kilogram, RER w/o RU, None), 'nitric acid production, product in 50% solution state' (kilogram, RER w/o RU, None)]\n",
      "['sawnwood production, softwood, raw, dried (u=20%)' (cubic meter, Europe without Switzerland, None)]\n"
     ]
    }
   ],
   "source": [
    "mapping_rer = create_location_mapping_rer(ag, ei_name)"
   ]
  },
  {
   "cell_type": "code",
   "execution_count": 38,
   "id": "2e0d46f5",
   "metadata": {},
   "outputs": [
    {
     "data": {
      "text/plain": [
       "[{('reinforcing steel production',\n",
       "   'RER'): ['reinforcing steel production' (kilogram, Europe without Austria, None), ['reinforcing steel production' (kilogram, AT, None)]]},\n",
       " {('sawnwood production, softwood, raw, dried (u=20%)',\n",
       "   'RER'): ['sawnwood production, softwood, raw, dried (u=20%)' (cubic meter, Europe without Switzerland, None), ['sawnwood production, softwood, raw, dried (u=20%)' (cubic meter, CH, None)]]},\n",
       " {('nitric acid production, product in 50% solution state',\n",
       "   'RER'): ['nitric acid production, product in 50% solution state' (kilogram, RER w/o RU, None), 'nitric acid production, product in 50% solution state' (kilogram, RU, None)]}]"
      ]
     },
     "execution_count": 38,
     "metadata": {},
     "output_type": "execute_result"
    }
   ],
   "source": [
    "# Add nitric acid manually\n",
    "nitric_acid_rer_wo_ru = [\n",
    "    act for act in ei \n",
    "    if \"nitric acid production\" in act['name']\n",
    "    and \"RER w/o\" in act['location']\n",
    "    and \"nitric acid, without water, in 50% solution state\" in act['reference product']\n",
    "]\n",
    "assert len(nitric_acid_rer_wo_ru)==1\n",
    "nitric_acid_ru = [\n",
    "    act for act in ei \n",
    "    if \"nitric acid production\" in act['name']\n",
    "    and \"RU\" == act['location']\n",
    "    and \"nitric acid, without water, in 50% solution state\" in act['reference product']\n",
    "]\n",
    "assert len(nitric_acid_ru)==1\n",
    "mapping_rer.append(\n",
    "    {(\"nitric acid production, product in 50% solution state\", \"RER\"): nitric_acid_rer_wo_ru + nitric_acid_ru}\n",
    ")\n",
    "mapping_rer"
   ]
  },
  {
   "cell_type": "code",
   "execution_count": 39,
   "id": "9b822904",
   "metadata": {},
   "outputs": [
    {
     "data": {
      "text/plain": [
       "[{('market for transport, freight, lorry >32 metric ton, EURO4',\n",
       "   'GLO'): ['market for transport, freight, lorry >32 metric ton, EURO4' (ton kilometer, RoW, None), 'market for transport, freight, lorry >32 metric ton, EURO4' (ton kilometer, RER, None)]},\n",
       " {('market for transport, freight, lorry, unspecified',\n",
       "   'GLO'): ['market for transport, freight, lorry, unspecified' (ton kilometer, BR, None), 'market for transport, freight, lorry, unspecified' (ton kilometer, RER, None), 'market for transport, freight, lorry, unspecified' (ton kilometer, RoW, None), 'market for transport, freight, lorry, unspecified' (ton kilometer, ZA, None)]},\n",
       " {('market for lime', 'GLO'): ['market for lime' (kilogram, RER, None),\n",
       "   'market for lime' (kilogram, RoW, None)]},\n",
       " {('market for iron sulfate',\n",
       "   'GLO'): ['market for iron sulfate' (kilogram, RoW, None), 'market for iron sulfate' (kilogram, RER, None)]},\n",
       " {('market for transport, freight, inland waterways, barge',\n",
       "   'GLO'): ['market for transport, freight, inland waterways, barge' (ton kilometer, RER, None), 'market for transport, freight, inland waterways, barge' (ton kilometer, RoW, None)]},\n",
       " {('market for propylene',\n",
       "   'GLO'): ['market for propylene' (kilogram, RoW, None), 'market for propylene' (kilogram, ZA, None), 'market for propylene' (kilogram, RER, None)]},\n",
       " {('market for hydrogen sulfide',\n",
       "   'GLO'): ['market for hydrogen sulfide' (kilogram, RoW, None), 'market for hydrogen sulfide' (kilogram, RER, None)]},\n",
       " {('market for transport, freight, lorry 16-32 metric ton, EURO5',\n",
       "   'GLO'): ['market for transport, freight, lorry 16-32 metric ton, EURO5' (ton kilometer, BR, None), 'market for transport, freight, lorry 16-32 metric ton, EURO5' (ton kilometer, RER, None), 'market for transport, freight, lorry 16-32 metric ton, EURO5' (ton kilometer, RoW, None)]},\n",
       " {('market for sulfuric acid',\n",
       "   'GLO'): ['market for sulfuric acid' (kilogram, RER, None), 'market for sulfuric acid' (kilogram, RoW, None)]},\n",
       " {('market for transport, tractor and trailer, agricultural',\n",
       "   'GLO'): ['market for transport, tractor and trailer, agricultural' (ton kilometer, RoW, None), 'market for transport, tractor and trailer, agricultural' (ton kilometer, CH, None)]},\n",
       " {('market for limestone residue',\n",
       "   'GLO'): ['market for limestone residue' (kilogram, CH, None), 'market for limestone residue' (kilogram, RoW, None)]},\n",
       " {('market for wastewater, from residence',\n",
       "   'GLO'): ['market for wastewater, from residence' (cubic meter, CH, None), 'market for wastewater, from residence' (cubic meter, RoW, None)]},\n",
       " {('market for lubricating oil',\n",
       "   'GLO'): ['market for lubricating oil' (kilogram, RER, None), 'market for lubricating oil' (kilogram, RoW, None)]},\n",
       " {('market for ammonium sulfate',\n",
       "   'GLO'): ['market for ammonium sulfate' (kilogram, RER, None), 'market for ammonium sulfate' (kilogram, RoW, None)]},\n",
       " {('market for transport, freight, lorry, unspecified',\n",
       "   'GLO'): ['market for transport, freight, lorry, unspecified' (ton kilometer, BR, None), 'market for transport, freight, lorry, unspecified' (ton kilometer, RoW, None), 'market for transport, freight, lorry, unspecified' (ton kilometer, ZA, None), 'market for transport, freight, lorry, unspecified' (ton kilometer, RER, None)]},\n",
       " {('market for phosphoric acid, fertiliser grade, without water, in 70% solution state',\n",
       "   'GLO'): ['market for phosphoric acid, fertiliser grade, without water, in 70% solution state' (kilogram, RER, None),\n",
       "   'market for phosphoric acid, fertiliser grade, without water, in 70% solution state' (kilogram, RoW, None)]},\n",
       " {('market for dolomite', 'GLO'): ['market for dolomite' (kilogram, RER, None),\n",
       "   'market for dolomite' (kilogram, RoW, None)]},\n",
       " {('market for potassium chloride',\n",
       "   'GLO'): ['market for potassium chloride' (kilogram, RoW, None), 'market for potassium chloride' (kilogram, RER, None)]},\n",
       " {('market for water, decarbonised',\n",
       "   'GLO'): ['market for water, decarbonised' (kilogram, DE, None), 'market for water, decarbonised' (kilogram, BR, None), 'market for water, decarbonised' (kilogram, IN, None), 'market for water, decarbonised' (kilogram, CH, None), 'market for water, decarbonised' (kilogram, ES, None), 'market for water, decarbonised' (kilogram, GB, None), 'market for water, decarbonised' (kilogram, RU, None), 'market for water, decarbonised' (kilogram, RoW, None), 'market for water, decarbonised' (kilogram, ZA, None), 'market for water, decarbonised' (kilogram, US, None), 'market for water, decarbonised' (kilogram, FR, None), 'market for water, decarbonised' (kilogram, CA, None), 'market for water, decarbonised' (kilogram, CN, None)]},\n",
       " {('market for wastewater, average',\n",
       "   'GLO'): ['market for wastewater, average' (cubic meter, Europe without Switzerland, None), 'market for wastewater, average' (cubic meter, CH, None), 'market for wastewater, average' (cubic meter, RoW, None)]},\n",
       " {('market for waste mineral oil',\n",
       "   'GLO'): ['market for waste mineral oil' (kilogram, CH, None), 'market for waste mineral oil' (kilogram, Europe without Switzerland, None), 'market for waste mineral oil' (kilogram, RoW, None)]},\n",
       " {('market for wood ash mixture, pure',\n",
       "   'GLO'): ['market for wood ash mixture, pure' (kilogram, RoW, None), 'market for wood ash mixture, pure' (kilogram, CH, None), 'market for wood ash mixture, pure' (kilogram, Europe without Switzerland, None)]},\n",
       " {('market for gravel, crushed',\n",
       "   'GLO'): ['market for gravel, crushed' (kilogram, IN, None), 'market for gravel, crushed' (kilogram, CH, None), 'market for gravel, crushed' (kilogram, RoW, None), 'market for gravel, crushed' (kilogram, CA-QC, None), 'market for gravel, crushed' (kilogram, BR, None)]},\n",
       " {('market for bark chips, wet, measured as dry mass',\n",
       "   'GLO'): ['market for bark chips, wet, measured as dry mass' (kilogram, Europe without Switzerland, None), 'market for bark chips, wet, measured as dry mass' (kilogram, RoW, None), 'market for bark chips, wet, measured as dry mass' (kilogram, CH, None), 'market for bark chips, wet, measured as dry mass' (kilogram, CA-QC, None)]},\n",
       " {('market for transport, freight, lorry 16-32 metric ton, EURO3',\n",
       "   'GLO'): ['market for transport, freight, lorry 16-32 metric ton, EURO3' (ton kilometer, BR, None), 'market for transport, freight, lorry 16-32 metric ton, EURO3' (ton kilometer, RoW, None), 'market for transport, freight, lorry 16-32 metric ton, EURO3' (ton kilometer, RER, None)]},\n",
       " {('market for ammonium nitrate',\n",
       "   'GLO'): ['market for ammonium nitrate' (kilogram, RER, None), 'market for ammonium nitrate' (kilogram, CN, None), 'market for ammonium nitrate' (kilogram, RoW, None), 'market for ammonium nitrate' (kilogram, RNA, None)]},\n",
       " {('market for lime, packed',\n",
       "   'GLO'): ['market for lime, packed' (kilogram, Europe without Switzerland, None), 'market for lime, packed' (kilogram, RoW, None), 'market for lime, packed' (kilogram, CH, None)]},\n",
       " {('market for inert waste, for final disposal',\n",
       "   'GLO'): ['market for inert waste, for final disposal' (kilogram, RoW, None), 'market for inert waste, for final disposal' (kilogram, CH, None)]},\n",
       " {('market for quicklime, milled, loose',\n",
       "   'GLO'): ['market for quicklime, milled, loose' (kilogram, CH, None), 'market for quicklime, milled, loose' (kilogram, RoW, None)]},\n",
       " {('market for decarbonising waste',\n",
       "   'GLO'): ['market for decarbonising waste' (kilogram, RoW, None), 'market for decarbonising waste' (kilogram, CH, None)]},\n",
       " {('market for transport, freight, lorry 16-32 metric ton, EURO4',\n",
       "   'GLO'): ['market for transport, freight, lorry 16-32 metric ton, EURO4' (ton kilometer, RER, None), 'market for transport, freight, lorry 16-32 metric ton, EURO4' (ton kilometer, RoW, None)]},\n",
       " {('market for transport, freight, lorry 7.5-16 metric ton, EURO3',\n",
       "   'GLO'): ['market for transport, freight, lorry 7.5-16 metric ton, EURO3' (ton kilometer, RER, None), 'market for transport, freight, lorry 7.5-16 metric ton, EURO3' (ton kilometer, BR, None), 'market for transport, freight, lorry 7.5-16 metric ton, EURO3' (ton kilometer, RoW, None)]},\n",
       " {('market for transport, freight, lorry 16-32 metric ton, EURO3',\n",
       "   'GLO'): ['market for transport, freight, lorry 16-32 metric ton, EURO3' (ton kilometer, BR, None), 'market for transport, freight, lorry 16-32 metric ton, EURO3' (ton kilometer, RoW, None), 'market for transport, freight, lorry 16-32 metric ton, EURO3' (ton kilometer, RER, None)]}]"
      ]
     },
     "execution_count": 39,
     "metadata": {},
     "output_type": "execute_result"
    }
   ],
   "source": [
    "mapping_glo"
   ]
  },
  {
   "cell_type": "code",
   "execution_count": null,
   "id": "18c04cf3",
   "metadata": {},
   "outputs": [],
   "source": []
  },
  {
   "cell_type": "code",
   "execution_count": null,
   "id": "658ec2fb",
   "metadata": {},
   "outputs": [],
   "source": []
  },
  {
   "cell_type": "code",
   "execution_count": null,
   "id": "d84a9584",
   "metadata": {},
   "outputs": [],
   "source": []
  },
  {
   "cell_type": "code",
   "execution_count": null,
   "id": "08cc3d96",
   "metadata": {},
   "outputs": [],
   "source": []
  },
  {
   "cell_type": "code",
   "execution_count": null,
   "id": "5a32bfe2",
   "metadata": {},
   "outputs": [],
   "source": []
  },
  {
   "cell_type": "code",
   "execution_count": null,
   "id": "9d1be6f6",
   "metadata": {},
   "outputs": [],
   "source": []
  },
  {
   "cell_type": "code",
   "execution_count": null,
   "id": "ac46f880",
   "metadata": {},
   "outputs": [],
   "source": []
  },
  {
   "cell_type": "code",
   "execution_count": null,
   "id": "84ff099b",
   "metadata": {},
   "outputs": [],
   "source": []
  },
  {
   "cell_type": "code",
   "execution_count": null,
   "id": "589a363a",
   "metadata": {},
   "outputs": [],
   "source": []
  },
  {
   "cell_type": "code",
   "execution_count": null,
   "id": "4a9d0ae7",
   "metadata": {},
   "outputs": [],
   "source": []
  },
  {
   "cell_type": "code",
   "execution_count": null,
   "id": "6160d51f",
   "metadata": {},
   "outputs": [],
   "source": []
  },
  {
   "cell_type": "code",
   "execution_count": null,
   "id": "f0808d34",
   "metadata": {},
   "outputs": [],
   "source": [
    "\n",
    "\n"
   ]
  }
 ],
 "metadata": {
  "kernelspec": {
   "display_name": "Python 3 (ipykernel)",
   "language": "python",
   "name": "python3"
  },
  "language_info": {
   "codemirror_mode": {
    "name": "ipython",
    "version": 3
   },
   "file_extension": ".py",
   "mimetype": "text/x-python",
   "name": "python",
   "nbconvert_exporter": "python",
   "pygments_lexer": "ipython3",
   "version": "3.9.9"
  },
  "varInspector": {
   "cols": {
    "lenName": 16,
    "lenType": 16,
    "lenVar": 40
   },
   "kernels_config": {
    "python": {
     "delete_cmd_postfix": "",
     "delete_cmd_prefix": "del ",
     "library": "var_list.py",
     "varRefreshCmd": "print(var_dic_list())"
    },
    "r": {
     "delete_cmd_postfix": ") ",
     "delete_cmd_prefix": "rm(",
     "library": "var_list.r",
     "varRefreshCmd": "cat(var_dic_list()) "
    }
   },
   "types_to_exclude": [
    "module",
    "function",
    "builtin_function_or_method",
    "instance",
    "_Feature"
   ],
   "window_display": false
  }
 },
 "nbformat": 4,
 "nbformat_minor": 5
}
