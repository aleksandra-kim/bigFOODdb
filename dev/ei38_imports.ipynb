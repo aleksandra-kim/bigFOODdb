{
 "cells": [
  {
   "cell_type": "code",
   "execution_count": 1,
   "id": "a18c134c",
   "metadata": {
    "scrolled": true
   },
   "outputs": [
    {
     "name": "stdout",
     "output_type": "stream",
     "text": [
      "Biosphere database already present!!! No setup is needed\n",
      "ecoinvent 3.8 cutoff database already present!!! No import is needed\n",
      "Extracted 1189 unallocated datasets in 3.63 seconds\n",
      "Applying strategy: normalize_units\n",
      "Applying strategy: update_ecoinvent_locations\n",
      "Applying strategy: assign_only_product_as_production\n",
      "Applying strategy: drop_unspecified_subcategories\n",
      "Applying strategy: sp_allocate_products\n",
      "Applying strategy: fix_zero_allocation_products\n",
      "Applying strategy: split_simapro_name_geo\n",
      "Applying strategy: strip_biosphere_exc_locations\n",
      "Applying strategy: migrate_datasets\n",
      "Applying strategy: migrate_exchanges\n",
      "Applying strategy: set_code_by_activity_hash\n",
      "Applying strategy: link_technosphere_based_on_name_unit_location\n",
      "Applying strategy: change_electricity_unit_mj_to_kwh\n",
      "Applying strategy: set_lognormal_loc_value_uncertainty_safe\n",
      "Applying strategy: normalize_biosphere_categories\n",
      "Applying strategy: normalize_simapro_biosphere_categories\n",
      "Applying strategy: normalize_biosphere_names\n",
      "Applying strategy: normalize_simapro_biosphere_names\n",
      "Applying strategy: migrate_exchanges\n",
      "Applying strategy: fix_localized_water_flows\n",
      "Applying strategy: link_iterable_by_fields\n",
      "Applying strategy: convert_activity_parameters_to_list\n",
      "Applied 22 strategies in 3.33 seconds\n",
      "Applying strategy: migrate_datasets\n",
      "Applying strategy: migrate_exchanges\n",
      "Applying strategy: migrate_datasets\n",
      "Applying strategy: migrate_exchanges\n",
      "Applying strategy: migrate_datasets\n",
      "Applying strategy: migrate_exchanges\n",
      "Applying strategy: migrate_datasets\n",
      "Applying strategy: migrate_exchanges\n",
      "Applying strategy: link_iterable_by_fields\n",
      "Applying strategy: link_iterable_by_fields\n",
      "Couldn't apply strategy link_iterable_by_fields:\n",
      "\tObject in source database can't be uniquely linked to target database.\n",
      "Problematic dataset is:\n",
      "{'filename': '(missing)',\n",
      " 'location': 'RER',\n",
      " 'name': 'calcium nitrate production',\n",
      " 'unit': 'kilogram'}\n",
      "Possible targets include (at least one not shown):\n",
      "[{'filename': '835aeb7a-cd18-4d60-a640-06df856dc96c_94ef9b64-be1e-4fea-a206-a952eb605628.spold',\n",
      "  'location': 'RER',\n",
      "  'name': 'calcium nitrate production',\n",
      "  'unit': 'kilogram'}]\n",
      "Applying strategy: link_iterable_by_fields\n",
      "Applying strategy: link_iterable_by_fields\n",
      "Applying strategy: link_iterable_by_fields\n",
      "Couldn't apply strategy link_iterable_by_fields:\n",
      "\tObject in source database can't be uniquely linked to target database.\n",
      "Problematic dataset is:\n",
      "{'category': '(missing)',\n",
      " 'filename': '(missing)',\n",
      " 'location': '(missing)',\n",
      " 'name': 'Benzyl alcohol',\n",
      " 'unit': 'kilogram'}\n",
      "Possible targets include (at least one not shown):\n",
      "[{'category': '(missing)',\n",
      "  'filename': '(missing)',\n",
      "  'location': '(missing)',\n",
      "  'name': 'Benzyl alcohol',\n",
      "  'unit': 'kilogram'},\n",
      " {'category': '(missing)',\n",
      "  'filename': '(missing)',\n",
      "  'location': '(missing)',\n",
      "  'name': 'Benzyl alcohol',\n",
      "  'unit': 'kilogram'},\n",
      " {'category': '(missing)',\n",
      "  'filename': '(missing)',\n",
      "  'location': '(missing)',\n",
      "  'name': 'Benzyl alcohol',\n",
      "  'unit': 'kilogram'},\n",
      " {'category': '(missing)',\n",
      "  'filename': '(missing)',\n",
      "  'location': '(missing)',\n",
      "  'name': 'Benzyl alcohol',\n",
      "  'unit': 'kilogram'}]\n"
     ]
    }
   ],
   "source": [
    "import bw2io as bi\n",
    "import bw2data as bd\n",
    "import sys\n",
    "sys.path.append(\"/Users/akim/PycharmProjects/bigfood_db\")\n",
    "\n",
    "# Local files\n",
    "from bigfood_db.import_databases import import_ecoinvent\n",
    "from bigfood_db.importers import Agribalyse13Importer\n",
    "from bigfood_db.utils import create_location_mapping_glo, create_location_mapping_rer, modify_exchanges\n",
    "\n",
    "\n",
    "if __name__ == '__main__':\n",
    "    project = \"Food ei38\"\n",
    "    bd.projects.set_current(project)\n",
    "\n",
    "    ei_path = \"/Users/akim/Documents/LCA_files/ecoinvent_38_cutoff/datasets\"\n",
    "    ei_name = \"ecoinvent 3.8 cutoff\"\n",
    "\n",
    "    bi.bw2setup()\n",
    "    b3 = bd.Database('biosphere3')\n",
    "    import_ecoinvent(ei_path, ei_name)\n",
    "    ei = bd.Database(ei_name)\n",
    "\n",
    "    ag_path = \"/Users/akim/Documents/LCA_files/agribalyse_13/Agribalyse CSV FINAL_no links_Nov2016v3.CSV\"\n",
    "    ag_name = \"Agribalyse 1.3\"\n",
    "    ag = Agribalyse13Importer(ag_path, ag_name)\n",
    "#     ag.add_unlinked_activities()\n",
    "#     mapping = create_location_mapping(ag, ei_name)\n",
    "#     ag = modify_exchanges(ag, mapping, ei_name)\n",
    "    "
   ]
  },
  {
   "cell_type": "code",
   "execution_count": 2,
   "id": "4e2795d8",
   "metadata": {},
   "outputs": [
    {
     "name": "stdout",
     "output_type": "stream",
     "text": [
      "1261 datasets\n",
      "115259 exchanges\n",
      "3294 unlinked exchanges\n",
      "  Type biosphere: 440 unique unlinked exchanges\n",
      "  Type technosphere: 77 unique unlinked exchanges\n"
     ]
    },
    {
     "data": {
      "text/plain": [
       "(1261, 115259, 3294)"
      ]
     },
     "execution_count": 2,
     "metadata": {},
     "output_type": "execute_result"
    }
   ],
   "source": [
    "ag.statistics()"
   ]
  },
  {
   "cell_type": "markdown",
   "id": "3db431c8",
   "metadata": {},
   "source": [
    "# Technosphere"
   ]
  },
  {
   "cell_type": "markdown",
   "id": "7fb468f4",
   "metadata": {},
   "source": [
    "## 1. Allocation for activities with RER locations"
   ]
  },
  {
   "cell_type": "code",
   "execution_count": 3,
   "id": "3c712089",
   "metadata": {},
   "outputs": [],
   "source": [
    "mapping_rer = create_location_mapping_rer(ag, ei_name)"
   ]
  },
  {
   "cell_type": "code",
   "execution_count": 4,
   "id": "5804d28c",
   "metadata": {},
   "outputs": [
    {
     "data": {
      "text/plain": [
       "[{('reinforcing steel production',\n",
       "   'RER'): [('ecoinvent 3.8 cutoff',\n",
       "    '98d4e36247aefadf9db37e9312c50a14'), ('ecoinvent 3.8 cutoff', '1c8e803b4a1eeb405ff8800532239116')]},\n",
       " {('sawnwood production, softwood, raw, dried (u=20%)',\n",
       "   'RER'): [('ecoinvent 3.8 cutoff',\n",
       "    '7e691769cd3546db199f7c3e66ed3760'), ('ecoinvent 3.8 cutoff', '773a438348a177aa8103249e1f82493c')]},\n",
       " {('nitric acid production, product in 50% solution state',\n",
       "   'RER'): [('ecoinvent 3.8 cutoff',\n",
       "    'e7b829f39d2c08681dd4b6b236fa3271'), ('ecoinvent 3.8 cutoff', '296b15dd033de76876de600383837ec1')]}]"
      ]
     },
     "execution_count": 4,
     "metadata": {},
     "output_type": "execute_result"
    }
   ],
   "source": [
    "# Add nitric acid manually\n",
    "nitric_acid_rer_wo_ru = [\n",
    "    act for act in ei \n",
    "    if \"nitric acid production\" in act['name']\n",
    "    and \"RER w/o\" in act['location']\n",
    "    and \"nitric acid, without water, in 50% solution state\" in act['reference product']\n",
    "]\n",
    "assert len(nitric_acid_rer_wo_ru)==1\n",
    "nitric_acid_ru = [\n",
    "    act for act in ei \n",
    "    if \"nitric acid production\" in act['name']\n",
    "    and \"RU\" == act['location']\n",
    "    and \"nitric acid, without water, in 50% solution state\" in act['reference product']\n",
    "]\n",
    "assert len(nitric_acid_ru)==1\n",
    "mapping_rer.append(\n",
    "    {\n",
    "        (\"nitric acid production, product in 50% solution state\", \"RER\"): [\n",
    "            (ei.name, nitric_acid_rer_wo_ru[0]['code']),\n",
    "            (ei.name, nitric_acid_ru[0]['code']),\n",
    "        ]\n",
    "    }\n",
    ")\n",
    "mapping_rer"
   ]
  },
  {
   "cell_type": "code",
   "execution_count": 5,
   "id": "9a9a4130",
   "metadata": {
    "scrolled": true
   },
   "outputs": [
    {
     "name": "stdout",
     "output_type": "stream",
     "text": [
      "Applying strategy: link_iterable_by_fields\n",
      "Applying strategy: link_iterable_by_fields\n",
      "1261 datasets\n",
      "115284 exchanges\n",
      "3269 unlinked exchanges\n",
      "  Type biosphere: 440 unique unlinked exchanges\n",
      "  Type technosphere: 74 unique unlinked exchanges\n"
     ]
    },
    {
     "data": {
      "text/plain": [
       "(1261, 115284, 3269)"
      ]
     },
     "execution_count": 5,
     "metadata": {},
     "output_type": "execute_result"
    }
   ],
   "source": [
    "ag = modify_exchanges(ag, mapping_rer, ei_name)\n",
    "ag.match_database(ei_name, fields=['name', 'location', 'unit', 'reference product'])\n",
    "# ag.match_database(ei_name, fields=['name', 'location', 'unit'])\n",
    "ag.statistics()"
   ]
  },
  {
   "cell_type": "markdown",
   "id": "883344cd",
   "metadata": {},
   "source": [
    "## 2. Allocation for activities with GLO locations"
   ]
  },
  {
   "cell_type": "code",
   "execution_count": 6,
   "id": "a00c896b",
   "metadata": {},
   "outputs": [
    {
     "name": "stdout",
     "output_type": "stream",
     "text": [
      "CPU times: user 44.1 s, sys: 12.9 s, total: 57.1 s\n",
      "Wall time: 57.8 s\n"
     ]
    },
    {
     "data": {
      "text/plain": [
       "[{('market for transport, freight, lorry >32 metric ton, EURO4',\n",
       "   'GLO'): [('ecoinvent 3.8 cutoff',\n",
       "    '43b66a83281658133104438bea9040f0'), ('ecoinvent 3.8 cutoff', 'e80fa9b85960f64b02dea371bfdfc790')]},\n",
       " {('market for transport, freight, lorry, unspecified',\n",
       "   'GLO'): [('ecoinvent 3.8 cutoff',\n",
       "    '2b0c1793924e1bb3e821cbe15bee1a32'), ('ecoinvent 3.8 cutoff', '6edfee34a352760ad1029a3aa342e00a'), ('ecoinvent 3.8 cutoff',\n",
       "    'f42f0f6bf959f03b728ef93398630236'), ('ecoinvent 3.8 cutoff',\n",
       "    '9620867f9e5b65a1dc2a63e5eb67c40e')]},\n",
       " {('market for lime',\n",
       "   'GLO'): [('ecoinvent 3.8 cutoff',\n",
       "    '53ff56d23191ee5992141d88dd6c9f4f'), ('ecoinvent 3.8 cutoff', 'cb7908bc37fd0ee15ae23f425eabb796')]},\n",
       " {('market for iron sulfate',\n",
       "   'GLO'): [('ecoinvent 3.8 cutoff',\n",
       "    '6025ff1e208cc532654b15bc75f64d78'), ('ecoinvent 3.8 cutoff', '75caf350f8898028dd5f1692ac67f586')]},\n",
       " {('market for transport, freight, inland waterways, barge',\n",
       "   'GLO'): [('ecoinvent 3.8 cutoff',\n",
       "    'e82a2f2f1f59463b25cf56e324d796b2'), ('ecoinvent 3.8 cutoff', '71060420f97174f7055dd7eb6f339715')]},\n",
       " {('market for propylene',\n",
       "   'GLO'): [('ecoinvent 3.8 cutoff',\n",
       "    '10cfd83cdf3c85d6605c99de67d81aad'), ('ecoinvent 3.8 cutoff', '1f304668a892a2f5c94aa1e4586448f5'), ('ecoinvent 3.8 cutoff',\n",
       "    '44fb95e65163a5e0d635430ab792da8d')]},\n",
       " {('market for hydrogen sulfide',\n",
       "   'GLO'): [('ecoinvent 3.8 cutoff',\n",
       "    '7f5eb981e4fccf1efb7c4df1b166bbe3'), ('ecoinvent 3.8 cutoff', '22f3e6c31935b37ccf6a07fcc3023abe')]},\n",
       " {('market for transport, freight, lorry 16-32 metric ton, EURO5',\n",
       "   'GLO'): [('ecoinvent 3.8 cutoff',\n",
       "    '665a7eceb30a2df599d5dcdd6e0392df'), ('ecoinvent 3.8 cutoff', '2256323316c3dc15a109567d915fcab1'), ('ecoinvent 3.8 cutoff',\n",
       "    '711532d84a97f77b986aec908783769f')]},\n",
       " {('market for sulfuric acid',\n",
       "   'GLO'): [('ecoinvent 3.8 cutoff',\n",
       "    'a39fae0ac7b85f6d8f42258b0bc6f62f'), ('ecoinvent 3.8 cutoff', 'd48c15a567f85ccaf9a4bbaef5634b61')]},\n",
       " {('market for transport, tractor and trailer, agricultural',\n",
       "   'GLO'): [('ecoinvent 3.8 cutoff',\n",
       "    '605b46fb1b3f4b1cd4d93f9e7a00ce8a'), ('ecoinvent 3.8 cutoff', 'dcaad9670ef8cebdfd4ac3699262940e')]},\n",
       " {('market for limestone residue',\n",
       "   'GLO'): [('ecoinvent 3.8 cutoff',\n",
       "    '5c978e752498c0bcd6c3cc55f768030b'), ('ecoinvent 3.8 cutoff', '52993cd095f5f9397ac0d3ae7f49d7f2')]},\n",
       " {('market for wastewater, from residence',\n",
       "   'GLO'): [('ecoinvent 3.8 cutoff',\n",
       "    '9704869cbeb8a079a475df4261b8e0bb'), ('ecoinvent 3.8 cutoff', 'b49f2e6c159a1b2d0a24e6bc1c04709a')]},\n",
       " {('market for lubricating oil',\n",
       "   'GLO'): [('ecoinvent 3.8 cutoff',\n",
       "    '0acb9c867cdbf81942e3e976fbe7bdbb'), ('ecoinvent 3.8 cutoff', '15c993b65a45868e9f93a05998f2aca0')]},\n",
       " {('market for ammonium sulfate',\n",
       "   'GLO'): [('ecoinvent 3.8 cutoff',\n",
       "    'e7faa13b8c1174e061c1ee0aaa734c8a'), ('ecoinvent 3.8 cutoff', 'e5e264a063e0b569a887c6e8d96c1ff4')]},\n",
       " {('market for transport, freight, lorry, unspecified',\n",
       "   'GLO'): [('ecoinvent 3.8 cutoff',\n",
       "    'f42f0f6bf959f03b728ef93398630236'), ('ecoinvent 3.8 cutoff', '6edfee34a352760ad1029a3aa342e00a'), ('ecoinvent 3.8 cutoff',\n",
       "    '9620867f9e5b65a1dc2a63e5eb67c40e'), ('ecoinvent 3.8 cutoff',\n",
       "    '2b0c1793924e1bb3e821cbe15bee1a32')]},\n",
       " {('market for phosphoric acid, fertiliser grade, without water, in 70% solution state',\n",
       "   'GLO'): [('ecoinvent 3.8 cutoff', 'dfaab789ed001f94752be20065a68cbc'),\n",
       "   ('ecoinvent 3.8 cutoff', 'fa3403417365a75193609e2e691c1b57')]},\n",
       " {('market for dolomite',\n",
       "   'GLO'): [('ecoinvent 3.8 cutoff',\n",
       "    'c1274c196d6e18f4c6456b4c1b92dd8c'), ('ecoinvent 3.8 cutoff', '39571cd520b97ba1f1126a642b7c3bca')]},\n",
       " {('market for potassium chloride',\n",
       "   'GLO'): [('ecoinvent 3.8 cutoff',\n",
       "    '3ff3b8976c0623662209a5707edfc857'), ('ecoinvent 3.8 cutoff', 'a8d9ae37bbb1d15619c03ab39e6eed57')]},\n",
       " {('market for water, decarbonised',\n",
       "   'GLO'): [('ecoinvent 3.8 cutoff',\n",
       "    'ad2816d559a74c0cdd6f49eacbde3df1'), ('ecoinvent 3.8 cutoff', '56894f96a8ef9fc3ab8296a9019e1be8'), ('ecoinvent 3.8 cutoff',\n",
       "    'ceaaf86b29509609e8453253786b7188'), ('ecoinvent 3.8 cutoff',\n",
       "    '2040efe62886e6f108756a2b60d663a1'), ('ecoinvent 3.8 cutoff',\n",
       "    '0cbd3c89d3e8bb1ef00ec5ee4be1d4ff'), ('ecoinvent 3.8 cutoff',\n",
       "    '537e9871749f1cfb7236ce9133061dc0'), ('ecoinvent 3.8 cutoff',\n",
       "    'b402b65ffd0d1c7df3b2cbaee24e1916'), ('ecoinvent 3.8 cutoff',\n",
       "    'f321ad402ef9eb5fe9334d1a42a49717'), ('ecoinvent 3.8 cutoff',\n",
       "    '909090fdd6f12b6e52b0d167a5b1d683'), ('ecoinvent 3.8 cutoff',\n",
       "    '46dbac746b39d63453e670233bcedf6e'), ('ecoinvent 3.8 cutoff',\n",
       "    'c81a7ee774ddec77243676ab57665b7c'), ('ecoinvent 3.8 cutoff',\n",
       "    '71a229dbda106a641a6b948bd44791c9'), ('ecoinvent 3.8 cutoff',\n",
       "    'a613fc72828e0bdc39d299313f3b8c13')]},\n",
       " {('market for wastewater, average',\n",
       "   'GLO'): [('ecoinvent 3.8 cutoff',\n",
       "    'a3678a201fe953dcbd2a1a546e7c3218'), ('ecoinvent 3.8 cutoff', '0cae5efb87b2b46ae957ba6d7313657e'), ('ecoinvent 3.8 cutoff',\n",
       "    'f9d2ba56788e29e4f3f3c39ef67f34ab')]},\n",
       " {('market for waste mineral oil',\n",
       "   'GLO'): [('ecoinvent 3.8 cutoff',\n",
       "    'ef3c1e70d617452d89dfbecc859eb56b'), ('ecoinvent 3.8 cutoff', '5d3258538ce284631e62bf9f61726081'), ('ecoinvent 3.8 cutoff',\n",
       "    '2596232e969a929c42ac37ffdb779837')]},\n",
       " {('market for wood ash mixture, pure',\n",
       "   'GLO'): [('ecoinvent 3.8 cutoff',\n",
       "    'b4af381b17583ba85bee6a1a5addcdf4'), ('ecoinvent 3.8 cutoff', '9f19a2482e808d195f57e2d72da77551'), ('ecoinvent 3.8 cutoff',\n",
       "    'b4c5ddd986e20f004367cc9539f887fb')]},\n",
       " {('market for gravel, crushed',\n",
       "   'GLO'): [('ecoinvent 3.8 cutoff',\n",
       "    'ba8d25127f3f4dc7ebf8946c237161ca'), ('ecoinvent 3.8 cutoff', '7630c4c38450654cd5cb6d5ab89756da'), ('ecoinvent 3.8 cutoff',\n",
       "    '519beadbc9437238c0f941ffaabfe101'), ('ecoinvent 3.8 cutoff',\n",
       "    '03a4212623a72f05005eb20b3a89ac96'), ('ecoinvent 3.8 cutoff',\n",
       "    '57ac261cbf05decb46d5de42710c8156')]},\n",
       " {('market for bark chips, wet, measured as dry mass',\n",
       "   'GLO'): [('ecoinvent 3.8 cutoff',\n",
       "    'e92f1f72db2ca8b1f7757a4063afa98d'), ('ecoinvent 3.8 cutoff', '0573b56717349fa080f1fe405b2803f9'), ('ecoinvent 3.8 cutoff',\n",
       "    'dd71ce0dee34ebac142526012225ca70'), ('ecoinvent 3.8 cutoff',\n",
       "    'd85e3a190c338526b7e7a578eadcebdd')]},\n",
       " {('market for transport, freight, lorry 16-32 metric ton, EURO3',\n",
       "   'GLO'): [('ecoinvent 3.8 cutoff',\n",
       "    'f59854c6889299b8d1cffeec1c2ef175'), ('ecoinvent 3.8 cutoff', 'bff06588ca4f7d3210e382e206b1848f'), ('ecoinvent 3.8 cutoff',\n",
       "    '296f6f920417c047fef8afdc40b4abbe')]},\n",
       " {('market for ammonium nitrate',\n",
       "   'GLO'): [('ecoinvent 3.8 cutoff',\n",
       "    'f3b6a9e4a9807fcc1a7c941cdb7bde20'), ('ecoinvent 3.8 cutoff', '20972141d5318c967b516e2be63f1d9a'), ('ecoinvent 3.8 cutoff',\n",
       "    '3e1b71d0245480a6496859cef7a946f2'), ('ecoinvent 3.8 cutoff',\n",
       "    '5ab4e1bacebee5713bd221854c697628')]},\n",
       " {('market for urea',\n",
       "   'GLO'): [('ecoinvent 3.8 cutoff',\n",
       "    '189d785e50fd9f17baa226c951e218b1'), ('ecoinvent 3.8 cutoff', '5af2256d76a480abd7ea6ceb2d3c0111'), ('ecoinvent 3.8 cutoff',\n",
       "    'abfd9777e8d7a92647d51223f677b052'), ('ecoinvent 3.8 cutoff',\n",
       "    'a27a7e3b98830155a7823891a53f9a32')]},\n",
       " {('market for lime, packed',\n",
       "   'GLO'): [('ecoinvent 3.8 cutoff',\n",
       "    '2738652bacae003dbebde2c5dfc19207'), ('ecoinvent 3.8 cutoff', '4635413b43e1117848e018d33ea851c9'), ('ecoinvent 3.8 cutoff',\n",
       "    'ad280946f31aba93b4ebff53db9a08cd')]},\n",
       " {('market for inert waste, for final disposal',\n",
       "   'GLO'): [('ecoinvent 3.8 cutoff',\n",
       "    '625d763572a45768fe1ee3ea8be1c1e4'), ('ecoinvent 3.8 cutoff', '9842706a0ff8839a1109233ce34fa2f8')]},\n",
       " {('market for quicklime, milled, loose',\n",
       "   'GLO'): [('ecoinvent 3.8 cutoff',\n",
       "    '940a75147e77d4e96173c46b776b2993'), ('ecoinvent 3.8 cutoff', '2090799cb07b6d9467c7cbc5579f9555')]},\n",
       " {('market for decarbonising waste',\n",
       "   'GLO'): [('ecoinvent 3.8 cutoff',\n",
       "    '2a0d58014ba9ef602e3afe362777d8b4'), ('ecoinvent 3.8 cutoff', '763a313e06d0f9a5116305b93312c90d')]},\n",
       " {('market for transport, freight, lorry 16-32 metric ton, EURO4',\n",
       "   'GLO'): [('ecoinvent 3.8 cutoff',\n",
       "    '4b8fe707307a3c15b03637b956c4dd3d'), ('ecoinvent 3.8 cutoff', '9d6a562657fde35eb198194892f36d55')]},\n",
       " {('market for transport, freight, lorry 7.5-16 metric ton, EURO3',\n",
       "   'GLO'): [('ecoinvent 3.8 cutoff',\n",
       "    '41692689acb799686b9977044958a2ed'), ('ecoinvent 3.8 cutoff', '30c539b1c1f3e8b78b77678622e372c2'), ('ecoinvent 3.8 cutoff',\n",
       "    'bd29e939a7d8eee66e32234ec953094c')]},\n",
       " {('market for transport, freight, lorry 16-32 metric ton, EURO3',\n",
       "   'GLO'): [('ecoinvent 3.8 cutoff',\n",
       "    '296f6f920417c047fef8afdc40b4abbe'), ('ecoinvent 3.8 cutoff', 'bff06588ca4f7d3210e382e206b1848f'), ('ecoinvent 3.8 cutoff',\n",
       "    'f59854c6889299b8d1cffeec1c2ef175')]}]"
      ]
     },
     "execution_count": 6,
     "metadata": {},
     "output_type": "execute_result"
    }
   ],
   "source": [
    "%%time\n",
    "mapping_glo = create_location_mapping_glo(ag, ei_name)\n",
    "mapping_glo"
   ]
  },
  {
   "cell_type": "code",
   "execution_count": 7,
   "id": "c18d9cdd",
   "metadata": {},
   "outputs": [
    {
     "name": "stdout",
     "output_type": "stream",
     "text": [
      "Applying strategy: link_iterable_by_fields\n",
      "1261 datasets\n",
      "116027 exchanges\n",
      "2903 unlinked exchanges\n",
      "  Type biosphere: 440 unique unlinked exchanges\n",
      "  Type technosphere: 40 unique unlinked exchanges\n"
     ]
    },
    {
     "data": {
      "text/plain": [
       "(1261, 116027, 2903)"
      ]
     },
     "execution_count": 7,
     "metadata": {},
     "output_type": "execute_result"
    }
   ],
   "source": [
    "ag = modify_exchanges(ag, mapping_glo, ei_name)\n",
    "ag.match_database(ei_name, fields=['name', 'location', 'unit'])\n",
    "\n",
    "ag.statistics()"
   ]
  },
  {
   "cell_type": "markdown",
   "id": "28c327b4",
   "metadata": {},
   "source": [
    "## 3. Still unlinked"
   ]
  },
  {
   "cell_type": "code",
   "execution_count": 8,
   "id": "ed73b533",
   "metadata": {},
   "outputs": [
    {
     "data": {
      "text/plain": [
       "[('market for copper', 'GLO'),\n",
       " ('Waste in incineration', None),\n",
       " ('Waste in inert landfill', None),\n",
       " ('Cathode loss', None),\n",
       " ('Dross', None),\n",
       " ('Dross for recycling', None),\n",
       " ('Cathode iron ingots waste', None),\n",
       " ('Mineral waste, from mining', None),\n",
       " ('Production waste, not inert', None),\n",
       " ('Waste in bioactive landfill', None),\n",
       " ('copper production, primary', 'RER'),\n",
       " ('polyurethane production, flexible foam', 'RER'),\n",
       " ('glued laminated timber production, for outdoor use', 'RER'),\n",
       " ('market for electricity, medium voltage', 'RoW'),\n",
       " ('Zinc waste', None),\n",
       " ('Oil waste', None),\n",
       " ('Steel and iron (waste treatment) {GLO}| recycling of steel and iron | Alloc Rec, S',\n",
       "  None),\n",
       " ('Aluminium (waste treatment) {GLO}| recycling of aluminium | Alloc Rec, S',\n",
       "  None),\n",
       " ('PVC (waste treatment) {GLO}| recycling of PVC | Alloc Rec, S', None),\n",
       " ('Mixed plastics (waste treatment) {GLO}| recycling of mixed plastics | Alloc Rec, S',\n",
       "  None),\n",
       " ('market for nitrogen fertiliser, as N', 'GLO'),\n",
       " ('market for electricity, medium voltage', 'US-FRCC'),\n",
       " ('market for electricity, medium voltage', 'US-SPP'),\n",
       " ('Dust, unspecified', None),\n",
       " ('Mineral waste', None),\n",
       " ('Slags', None),\n",
       " ('Waste, final, inert', None),\n",
       " ('Waste, inorganic', None),\n",
       " ('Waste, nuclear, high active/m3', None),\n",
       " ('Waste, nuclear, low and medium active/m3', None),\n",
       " ('market for phosphate fertiliser, as P2O5', 'GLO'),\n",
       " ('Chemical waste, unspecified', None),\n",
       " ('Packaging waste, plastic', None),\n",
       " ('Chemical waste, inert', None),\n",
       " ('Packaging waste, paper and board', None),\n",
       " ('Packaging waste, wood', None),\n",
       " ('Plastic waste', None),\n",
       " ('Slags and ashes', None),\n",
       " ('Waste, industrial', None),\n",
       " ('market for electricity, low voltage', 'US-SPP')]"
      ]
     },
     "execution_count": 8,
     "metadata": {},
     "output_type": "execute_result"
    }
   ],
   "source": [
    "[(act['name'], act.get('location', None)) for act in ag.unlinked if \"tech\" in act['type']]"
   ]
  },
  {
   "cell_type": "markdown",
   "id": "dedf3f31",
   "metadata": {},
   "source": [
    "# Biosphere"
   ]
  },
  {
   "cell_type": "code",
   "execution_count": null,
   "id": "1f96cd38",
   "metadata": {},
   "outputs": [],
   "source": [
    "# del bd.databases[\"Agribalyse biosphere\"]\n",
    "# bd.Database(\"Agribalyse biosphere\").register()\n",
    "# ag.add_unlinked_flows_to_biosphere_database(\"Agribalyse biosphere\")"
   ]
  },
  {
   "cell_type": "code",
   "execution_count": null,
   "id": "7912ed2d",
   "metadata": {},
   "outputs": [],
   "source": []
  },
  {
   "cell_type": "code",
   "execution_count": null,
   "id": "dc49633e",
   "metadata": {},
   "outputs": [],
   "source": []
  },
  {
   "cell_type": "code",
   "execution_count": null,
   "id": "11dcf627",
   "metadata": {},
   "outputs": [],
   "source": []
  },
  {
   "cell_type": "code",
   "execution_count": null,
   "id": "f108037c",
   "metadata": {},
   "outputs": [],
   "source": []
  },
  {
   "cell_type": "code",
   "execution_count": null,
   "id": "5cef91c7",
   "metadata": {},
   "outputs": [],
   "source": [
    "\n",
    "\n"
   ]
  }
 ],
 "metadata": {
  "kernelspec": {
   "display_name": "Python 3 (ipykernel)",
   "language": "python",
   "name": "python3"
  },
  "language_info": {
   "codemirror_mode": {
    "name": "ipython",
    "version": 3
   },
   "file_extension": ".py",
   "mimetype": "text/x-python",
   "name": "python",
   "nbconvert_exporter": "python",
   "pygments_lexer": "ipython3",
   "version": "3.9.9"
  },
  "varInspector": {
   "cols": {
    "lenName": 16,
    "lenType": 16,
    "lenVar": 40
   },
   "kernels_config": {
    "python": {
     "delete_cmd_postfix": "",
     "delete_cmd_prefix": "del ",
     "library": "var_list.py",
     "varRefreshCmd": "print(var_dic_list())"
    },
    "r": {
     "delete_cmd_postfix": ") ",
     "delete_cmd_prefix": "rm(",
     "library": "var_list.r",
     "varRefreshCmd": "cat(var_dic_list()) "
    }
   },
   "types_to_exclude": [
    "module",
    "function",
    "builtin_function_or_method",
    "instance",
    "_Feature"
   ],
   "window_display": false
  }
 },
 "nbformat": 4,
 "nbformat_minor": 5
}
